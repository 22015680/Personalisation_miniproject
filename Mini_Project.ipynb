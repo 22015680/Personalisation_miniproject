{
 "cells": [
  {
   "cell_type": "markdown",
   "id": "106703ea",
   "metadata": {},
   "source": [
    "# Mini Project\n",
    "This recommendation system utilizes a content-based approach and mines insights from the '7k-books-with-metadata' dataset, considering features such as title, authors, categories, and descriptions. The system aims to provide users with book recommendations closely aligned with their preferences, enhancing their reading experience."
   ]
  },
  {
   "cell_type": "code",
   "execution_count": 139,
   "id": "11bba7cf",
   "metadata": {},
   "outputs": [],
   "source": [
    "import pandas as pd\n",
    "from sklearn.feature_extraction.text import TfidfVectorizer\n",
    "from sklearn.metrics.pairwise import cosine_similarity"
   ]
  },
  {
   "cell_type": "code",
   "execution_count": 140,
   "id": "1de361f9",
   "metadata": {},
   "outputs": [],
   "source": [
    "# Load the dataset\n",
    "df = pd.read_csv('archive/books.csv')"
   ]
  },
  {
   "cell_type": "code",
   "execution_count": 141,
   "id": "8c653742",
   "metadata": {},
   "outputs": [],
   "source": [
    "#Define a TF-IDF Vectorizer Object. Remove all english stop words such as 'the', 'a'\n",
    "vectorizer = TfidfVectorizer(stop_words='english')\n",
    "\n",
    "#Replace NaN with an empty string\n",
    "df = df.fillna('')\n",
    "\n",
    "# Combine the title, authors, categories, and description into a single column\n",
    "df['content'] = df['title'] + ' ' + df['authors']+ ' ' + df['categories']+ ' ' + df['description']\n",
    "\n",
    "# drop duplicates based on 'title'\n",
    "df = df.drop_duplicates(subset='title')\n",
    "\n",
    "# reset index after dropping duplicates\n",
    "df.reset_index(drop=True, inplace=True)\n",
    "\n",
    "# Create a tfidf_matrix\n",
    "tfidf_matrix = vectorizer.fit_transform(df['content'])"
   ]
  },
  {
   "cell_type": "code",
   "execution_count": 142,
   "id": "f042e43e",
   "metadata": {},
   "outputs": [],
   "source": [
    "# Compute the cosine similarity matrix\n",
    "cosine_sim = cosine_similarity(tfidf_matrix, tfidf_matrix)\n",
    "\n",
    "#Construct a reverse map of indices and book titles\n",
    "indices = pd.Series(df.index, index=df['title']).drop_duplicates()"
   ]
  },
  {
   "cell_type": "code",
   "execution_count": 143,
   "id": "043181ec",
   "metadata": {},
   "outputs": [],
   "source": [
    "# Function to get the most similar books to recommend\n",
    "def get_recommendations(title, cosine_sim=cosine_sim):\n",
    "    # Get the index of the book matching the title\n",
    "    idx = indices[title]\n",
    "\n",
    "    # Get the pairwise similarity scores of all books with that book\n",
    "    sim_scores = list(enumerate(cosine_sim[idx]))\n",
    "\n",
    "    # Sort the books based on the similarity scores\n",
    "    sim_scores = sorted(sim_scores, key=lambda x: x[1], reverse=True)\n",
    "\n",
    "    # Get the scores of the 10 most similar books\n",
    "    sim_scores = sim_scores[1:11]\n",
    "\n",
    "    # Get the book indices\n",
    "    book_indices = [i[0] for i in sim_scores]\n",
    "    \n",
    "    # Return the top 10 most similar books\n",
    "    return df[['title','average_rating']].iloc[book_indices]"
   ]
  },
  {
   "cell_type": "code",
   "execution_count": 144,
   "id": "2b4bc273",
   "metadata": {},
   "outputs": [
    {
     "name": "stdout",
     "output_type": "stream",
     "text": [
      "                                             title average_rating\n",
      "3884                             A Life in Letters           4.24\n",
      "3886      The Short Stories of F. Scott Fitzgerald           4.23\n",
      "5172   The St. Paul Stories of F. Scott Fitzgerald           3.97\n",
      "3176             Fitzgerald: All The Sad Young Men           3.95\n",
      "2222                      Like Water for Chocolate           3.94\n",
      "4868                                  The Crack-up           3.92\n",
      "4461  CliffsNotes on Fitzgerald's The Great Gatsby           3.73\n",
      "93                     The Love of the Last Tycoon           3.65\n",
      "4952                      Reading Lolita in Tehran            3.6\n",
      "5800             F. Scott Fitzgerald on Authorship           3.57\n"
     ]
    }
   ],
   "source": [
    "# Get top 10 most similar books unsorted\n",
    "similar_books = get_recommendations('The Great Gatsby')\n",
    "\n",
    "# Sort the similar books by 'average_rating'\n",
    "sorted_books = similar_books.sort_values('average_rating', ascending=False)\n",
    "\n",
    "# Print the sorted books\n",
    "print(sorted_books )"
   ]
  },
  {
   "cell_type": "code",
   "execution_count": null,
   "id": "3421eb48",
   "metadata": {},
   "outputs": [],
   "source": []
  }
 ],
 "metadata": {
  "kernelspec": {
   "display_name": "Python 3 (ipykernel)",
   "language": "python",
   "name": "python3"
  },
  "language_info": {
   "codemirror_mode": {
    "name": "ipython",
    "version": 3
   },
   "file_extension": ".py",
   "mimetype": "text/x-python",
   "name": "python",
   "nbconvert_exporter": "python",
   "pygments_lexer": "ipython3",
   "version": "3.9.12"
  }
 },
 "nbformat": 4,
 "nbformat_minor": 5
}
